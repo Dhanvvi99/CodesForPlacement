{
 "cells": [
  {
   "cell_type": "markdown",
   "metadata": {},
   "source": [
    "### Replace all 0's by 1 in a given integer"
   ]
  },
  {
   "cell_type": "code",
   "execution_count": null,
   "metadata": {},
   "outputs": [],
   "source": [
    "def replace(n):\n",
    "    if n == 0:\n",
    "        return 0\n",
    "    digit = n%10\n",
    "    if digit == 0:\n",
    "        digit = 1\n",
    "    return replace(int(n/10))*10+digit\n",
    "n = int(input())\n",
    "print(replace(n))"
   ]
  },
  {
   "cell_type": "markdown",
   "metadata": {},
   "source": [
    "### Can a number be replaced as a sum of two prime numbers"
   ]
  },
  {
   "cell_type": "code",
   "execution_count": 7,
   "metadata": {},
   "outputs": [
    {
     "name": "stdout",
     "output_type": "stream",
     "text": [
      "Enter a number : 30\n",
      "30 can be expressed as the sum of 7 and 23\n",
      "30 can be expressed as the sum of 11 and 19\n",
      "30 can be expressed as the sum of 13 and 17\n"
     ]
    }
   ],
   "source": [
    "def sum_of_primes(num):\n",
    "    isPrime = 1\n",
    "    for i in range (2,int(num/2),1):\n",
    "        if(num % i == 0):\n",
    "            isPrime = 0\n",
    "            break\n",
    "    return isPrime\n",
    "\n",
    "num = int(input(\"Enter a number : \"))\n",
    "flag = 0;\n",
    "i = 2\n",
    "for i in range (2,int(num/2),1):\n",
    "    if(sum_of_primes(i) == 1):\n",
    "        if(sum_of_primes(num-i) == 1):\n",
    "            print(num,\"can be expressed as the sum of\",i,\"and\",num-i)\n",
    "            flag = 1;\n",
    "if (flag == 0):\n",
    "    print(n,\"cannot be expressed as the sum of two prime numbers\")\n"
   ]
  },
  {
   "cell_type": "markdown",
   "metadata": {},
   "source": [
    "### Count possible decoding of a given digit sequence"
   ]
  },
  {
   "cell_type": "code",
   "execution_count": 10,
   "metadata": {},
   "outputs": [
    {
     "name": "stdout",
     "output_type": "stream",
     "text": [
      "123456\n",
      "Count is 3\n"
     ]
    }
   ],
   "source": [
    "def count_decodings(digit,n):\n",
    "    count = [0]*(n+1)\n",
    "    count[0] = 1\n",
    "    count[1] = 1\n",
    "    for i in range(2,n+1):\n",
    "        count[i] = 0\n",
    "        if digit[i-1]>'0':\n",
    "            count[i]=count[i-1]\n",
    "        if digit[i-2]=='1' or digit[i-2]=='2' and digit[i-1]<'7':\n",
    "            count[i]+=count[i-2]\n",
    "    return count[n]\n",
    "digit = input()\n",
    "n = len(digit)\n",
    "print(\"Count is\",count_decodings(digit,n))"
   ]
  },
  {
   "cell_type": "markdown",
   "metadata": {},
   "source": [
    "### Check if a character is a Vowel or Consonent"
   ]
  },
  {
   "cell_type": "code",
   "execution_count": 5,
   "metadata": {},
   "outputs": [
    {
     "name": "stdout",
     "output_type": "stream",
     "text": [
      "Enetr the character to check if its a vowel or a consonent: A\n",
      "The character entered is a vowel\n"
     ]
    }
   ],
   "source": [
    "def check_char(vowel,s):\n",
    "    if len(s)>1:\n",
    "        print(\"INVALID VALUE\")\n",
    "        return None\n",
    "    if s in vowel:\n",
    "        print(\"The character entered is a vowel\")\n",
    "    else:\n",
    "        print(\"The character entered is a consonent\")\n",
    "#driver code\n",
    "s = input(\"Enetr the character to check if its a vowel or a consonent: \")\n",
    "#if len(s)>1:\n",
    "#    print(\"Sorry Try entering a single Character\")\n",
    "vowel = ['a','e','i','o','u','A','E','I','O','U']    \n",
    "check_char(vowel,s)"
   ]
  },
  {
   "cell_type": "markdown",
   "metadata": {},
   "source": [
    "### Check whether the charactered entered is an Alphabet or not"
   ]
  },
  {
   "cell_type": "code",
   "execution_count": 11,
   "metadata": {},
   "outputs": [
    {
     "name": "stdout",
     "output_type": "stream",
     "text": [
      "Enter the character to be checked: r\n",
      "The character entered is a ALPHABET\n"
     ]
    }
   ],
   "source": [
    "def check(s):\n",
    "    if s>=chr(65) and s<= chr(90) or s>=chr(97) and s<=chr(122):\n",
    "        print(\"The character entered is a ALPHABET\")\n",
    "    else:\n",
    "        print(\"Sorry the character you entered is not an ALPHABET\")\n",
    "#driver code:\n",
    "s = input(\"Enter the character to be checked: \")\n",
    "check(s)"
   ]
  },
  {
   "cell_type": "markdown",
   "metadata": {},
   "source": [
    "### Calculate the area of the circle"
   ]
  },
  {
   "cell_type": "code",
   "execution_count": 13,
   "metadata": {},
   "outputs": [
    {
     "name": "stdout",
     "output_type": "stream",
     "text": [
      "Enter the radius3\n",
      "The area of circle is= 28.27\n"
     ]
    }
   ],
   "source": [
    "import math\n",
    "def area(r):\n",
    "    return math.pi*r*r\n",
    "r = float(input(\"Enter the radius\"))\n",
    "print(\"The area of circle is= %.2f\"%area(r))"
   ]
  },
  {
   "cell_type": "markdown",
   "metadata": {},
   "source": [
    "### Find the ASCII value of a character"
   ]
  },
  {
   "cell_type": "code",
   "execution_count": 21,
   "metadata": {},
   "outputs": [
    {
     "name": "stdout",
     "output_type": "stream",
     "text": [
      "Enter a character to Determine its ASCII value: a\n",
      "The ASCII value of a is 97\n"
     ]
    }
   ],
   "source": [
    "def ASCII(s):\n",
    "    if len(s)>1:\n",
    "        print(\"INVALID VALUE\")\n",
    "    else:\n",
    "        print(\"The ASCII value of\",s,\"is\",ord(s))\n",
    "s = input(\"Enter a character to Determine its ASCII value: \")\n",
    "ASCII(s)"
   ]
  },
  {
   "cell_type": "code",
   "execution_count": null,
   "metadata": {},
   "outputs": [],
   "source": []
  }
 ],
 "metadata": {
  "kernelspec": {
   "display_name": "Python 3",
   "language": "python",
   "name": "python3"
  },
  "language_info": {
   "codemirror_mode": {
    "name": "ipython",
    "version": 3
   },
   "file_extension": ".py",
   "mimetype": "text/x-python",
   "name": "python",
   "nbconvert_exporter": "python",
   "pygments_lexer": "ipython3",
   "version": "3.8.5"
  }
 },
 "nbformat": 4,
 "nbformat_minor": 4
}
