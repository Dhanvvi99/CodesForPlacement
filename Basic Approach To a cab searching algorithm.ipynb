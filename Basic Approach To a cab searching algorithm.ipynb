{
 "cells": [
  {
   "cell_type": "markdown",
   "metadata": {},
   "source": [
    "### Uber cab searching"
   ]
  },
  {
   "cell_type": "code",
   "execution_count": 8,
   "metadata": {},
   "outputs": [
    {
     "name": "stdout",
     "output_type": "stream",
     "text": [
      "Enter the cab code you are searchiong for14\n",
      "No Cabs nearby, try again!!!!\n"
     ]
    }
   ],
   "source": [
    "class Uber:\n",
    "    def __init__(self):\n",
    "        self.cabs = [3,8,12,13,17,23,34,47]\n",
    "        return\n",
    "    def bsearch(self,x):\n",
    "        beg = 0 \n",
    "        end = len(self.cabs)-1\n",
    "        while beg<=end:\n",
    "            mid = (beg+end)//2\n",
    "            if x==self.cabs[mid]:\n",
    "                return mid\n",
    "            elif x>self.cabs[mid]:\n",
    "                beg = mid+1\n",
    "            else:\n",
    "                end = mid-1\n",
    "        return -1    #element not found\n",
    "    \n",
    "\n",
    "id = Uber()\n",
    "x = int(input(\"Enter the cab code you are searching for\"))\n",
    "pos = id.bsearch(x)\n",
    "if pos == -1:\n",
    "    print(\"No Cabs nearby, try again!!!!\")\n",
    "else:\n",
    "    print(\"Cab is\",pos,\"km away. Please wait\")"
   ]
  },
  {
   "cell_type": "code",
   "execution_count": null,
   "metadata": {},
   "outputs": [],
   "source": []
  }
 ],
 "metadata": {
  "kernelspec": {
   "display_name": "Python 3",
   "language": "python",
   "name": "python3"
  },
  "language_info": {
   "codemirror_mode": {
    "name": "ipython",
    "version": 3
   },
   "file_extension": ".py",
   "mimetype": "text/x-python",
   "name": "python",
   "nbconvert_exporter": "python",
   "pygments_lexer": "ipython3",
   "version": "3.7.6"
  }
 },
 "nbformat": 4,
 "nbformat_minor": 4
}
